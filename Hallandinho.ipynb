{
 "cells": [
  {
   "cell_type": "markdown",
   "metadata": {},
   "source": [
    "# 19ª SNCT - IFSP - Hortolândia, São Paulo."
   ]
  },
  {
   "cell_type": "markdown",
   "metadata": {},
   "source": [
    "# Desenvolvendo um Chatbot da Copa do mundo 2022, em python, utilizando a biblioteca Chatterbot"
   ]
  },
  {
   "cell_type": "markdown",
   "metadata": {},
   "source": [
    "# Setup"
   ]
  },
  {
   "cell_type": "code",
   "execution_count": 27,
   "metadata": {},
   "outputs": [],
   "source": [
    "from chatterbot import ChatBot\n",
    "from chatterbot.trainers import ListTrainer\n",
    "#from chatterbot.trainers import ChatterBotCorpusTrainer # Descomentar caso queiram utilizar as conversas que a comunidade criou\n",
    "from chatterbot.conversation import Statement"
   ]
  },
  {
   "cell_type": "markdown",
   "metadata": {},
   "source": [
    "# Cria o bot e suas dependências"
   ]
  },
  {
   "cell_type": "code",
   "execution_count": 23,
   "metadata": {},
   "outputs": [
    {
     "name": "stderr",
     "output_type": "stream",
     "text": [
      "[nltk_data] Downloading package stopwords to /home/alex/nltk_data...\n",
      "[nltk_data]   Package stopwords is already up-to-date!\n",
      "[nltk_data] Downloading package averaged_perceptron_tagger to\n",
      "[nltk_data]     /home/alex/nltk_data...\n",
      "[nltk_data]   Package averaged_perceptron_tagger is already up-to-\n",
      "[nltk_data]       date!\n"
     ]
    }
   ],
   "source": [
    "# Cria o bot e suas dependências\n",
    "# Essa parte está separada do final apenas para fins didáticos\n",
    "# Para deixa o código mais limpo, podemos desconsiderar essa etapa\n",
    "\n",
    "bot = ChatBot(\n",
    "    'Hallandinho',\n",
    "    storage_adapter = 'chatterbot.storage.SQLStorageAdapter', #permite que o ChatterBot armazene dados de conversação em qualquer banco de dados suportado pelo SQL Alchemy ORM. \n",
    "    #ORM é uma ferramenta que traduz classes Python para tabelas em bancos de dados relacionais e converte automaticamente chamadas de função em instruções SQL\n",
    "    logic_adapters = [\n",
    "        {\n",
    "        'import_path': 'chatterbot.logic.BestMatch', #adaptador lógico que procura as soluções mais próximas\n",
    "        'statement_comparison_function':'chatterbot.comparisons.LevenshteinDistance', #adaptador que faz a comparação entre as palavras pelo cálculo de distância\n",
    "        'maximum_similarity_threshold':0.9, #limite de similaridade aceito\n",
    "        'default_response':'Desculpe, não entendi o que você quis dizer.' #resposta padrão para respostas não encontradas\n",
    "        }\n",
    "\n",
    "        \n",
    "    ],\n",
    "    database = 'database.sqlite3', #Cria um banco de dados sqlite\n",
    "    read_only = False\n",
    ")"
   ]
  },
  {
   "cell_type": "code",
   "execution_count": 24,
   "metadata": {},
   "outputs": [],
   "source": [
    "#conversa = ChatterBotCorpusTrainer(bot)\n",
    "#conversa.train('chatterbot.corpus.portuguese')"
   ]
  },
  {
   "cell_type": "markdown",
   "metadata": {},
   "source": [
    "## Cria nossa lista de conversa"
   ]
  },
  {
   "cell_type": "code",
   "execution_count": 25,
   "metadata": {},
   "outputs": [
    {
     "name": "stdout",
     "output_type": "stream",
     "text": [
      "List Trainer: [####################] 100%\n"
     ]
    }
   ],
   "source": [
    "conversa = ListTrainer(bot) #chama o método de treino\n",
    "conversa.train([ #cria uma lista prrópria de treino\n",
    "    'oi?', \n",
    "    'olá! tudo bem?',\n",
    "    'oi!', \n",
    "    'olá! tudo bem?',\n",
    "    'e ai!', \n",
    "    'olá! tudo bem?',\n",
    "    'olá! bom dia!',\n",
    "    'olá!', \n",
    "    'olá! boa noite!',\n",
    "    'olá!', \n",
    "    'bem e voce?',\n",
    "    'bem, obrigado',\n",
    "    'tudo e com voce?',\n",
    "    'bem, obrigado',\n",
    "\n",
    "    'qual seu nome?',\n",
    "    'meu nome é Hallandinho!Sou seu Bot da Copa!',\n",
    "    'quem é você?',\n",
    "    'Meu nome é Hallandinho! Sou seu Bot da Copa!',\n",
    "    'o que você é?',\n",
    "    'Eu sou seu bot da copa',\n",
    "    'o que você gosta de fazer?',\n",
    "    'Eu sou um bot, gosto de ser útil às pessoas',\n",
    "    'você tem gênero?',\n",
    "    'Ainda não me sinto confortável em responder essa pergunta',\n",
    "    'quando você nasceu?',\n",
    "    'Fui desenvolvido a pouco tempo, ainda não tenho muita experiência',\n",
    "    'você vai dominar o mundo?',\n",
    "    'não, eu estou aqui apenas para ajudar',\n",
    "    'você vai destruir o mundo?',\n",
    "    'Não, eu estou aqui apenas para ajudar', \n",
    "    'o que voce faz?',\n",
    "    'Respondo perguntas sobre a copa. Mas ainda não sei responder todas', \n",
    "\n",
    "    'qual time você torce?',\n",
    "    'Eu torço para o Ibis.',\n",
    "    'que time você torce?',\n",
    "    'Eu torço para o Ibis.',\n",
    "    'qual seleção você acha que vai vencer a copa?',\n",
    "    'Torço para que o Brasil vença!',\n",
    "    'qual seleção você torce?',\n",
    "    'Torço para o Brasil!',\n",
    "    'qual país você torce?',\n",
    "    'Torço para o Brasil!',\n",
    "    'você gosta do Neymar?',\n",
    "    'Joga bem, mas finge muito, rs.',\n",
    "    'quais dias terão jogos da seleção?',\n",
    "    'Na primeira fase, os jogos serão dias 24/11 contra a Sérvia, 28/11 contra a Suíça e 2/12 contra Camarões',\n",
    "    'quais dias o brasil joga?',\n",
    "    'O Brasil joga 24/11 contra a Sérvia, 28/11 contra a Suíça e 2/12 contra a Camarões'\n",
    "    'que dia o brasil joga?',\n",
    "    'O Brasil joga 24/11 contra a Sérvia, 28/11 contra a Suíça e 2/12 contra a Camarões'\n",
    "    'que dia a seleção joga?',\n",
    "    'O Brasil joga 24/11 contra a Sérvia, 28/11 contra a Suíça e 2/12 contra a Camarões'\n",
    "    'que dia é a final?',\n",
    "    'Dia 18/12, domingo.',\n",
    "    'quem você acha que vai ganhar?',\n",
    "    'Acho que o Brasil',\n",
    "    'você acha que o Quatar pode vencer a copa?',\n",
    "    'Tudo é possível',\n",
    "    'aonde será a copa?',\n",
    "    'A copa será no Qatar',\n",
    "    'aonde será a copa?',\n",
    "    'A copa será no Catar',\n",
    "    'aonde fica o Qatar?',\n",
    "    'Fica no continente Asiático'\n",
    "    'aonde fica o Catar?',\n",
    "    'Fica no continente Asiático'\n",
    "    'qual o grupo do Brasil?',\n",
    "    'É o grupo G',\n",
    "    'quais países estão no grupo do Brasil?',\n",
    "    'Brasil, Camarões, Suíca e Sérvia',\n",
    "    'quem está no grupo a?',\n",
    "    'Catar, Equador, Holanda e Senegal',\n",
    "    'grupo a?',\n",
    "    'Catar, Equador, Holanda e Senegal',\n",
    "    'quem está no grupo b?',\n",
    "    'Estados Unidos, Inglaterra, Irã e País de Gales',\n",
    "    'grupo b?',\n",
    "    'Estados Unidos, Inglaterra, Irã e País de Gales',\n",
    "    'quem está no grupo c?',\n",
    "    'Argentina, Arábia Saudita, México e Polônia',\n",
    "    'grupo c?',\n",
    "    'Argentina, Arábia Saudita, México e Polônia',\n",
    "    'quem está no grupo d?',\n",
    "    'Austrália, Dinamarca, França e Tunísia',\n",
    "    'grupo d?',\n",
    "    'Austrália, Dinamarca, França e Tunísia',\n",
    "    'quem está no grupo e?',\n",
    "    'Alemanha, Costa Rica, Espanha e Japão',\n",
    "    'grupo e?',\n",
    "    'Alemanha, Costa Rica, Espanha e Japão',\n",
    "    'quem está no grupo f?',\n",
    "    'Bélgica, Canada, Croácia e Marrocos',\n",
    "    'grupo f?',\n",
    "    'Bélgica, Canada, Croácia e Marrocos',\n",
    "    'quem está no grupo g?',\n",
    "    'Brasil, Camarões, Suíçca e Sérvia',\n",
    "    'grupo g?',\n",
    "    'Brasil, Camarões, Suíçca e Sérvia',\n",
    "    'quem está no grupo h?',\n",
    "    'Coréia do Sul, Gana, Portugal e Uruguai',\n",
    "    'grupo h?',\n",
    "    'Coréia do Sul, Gana, Portugal e Uruguai',\n",
    "    'que dia começa a copa?',\n",
    "    'A copa começa dia 20/11. O jogo de abertura será Quatar contra Equador',\n",
    "    'você gosta de outros esportes?'\n",
    "    'Gosto de basket, mas não entendo muito. Ainda não fui treinado para isso.',\n",
    "    'e na segunda fase?',\n",
    "    'Se o Brasil ficar em primeiro, ele joga dia 5/12 com o segundo colocado do grupo H. Se ele ficar em segundo do grupo, ele joga dia 6/12 contra o primeiro do grupo H.'\n",
    "    'quais dias a Argentina Joga?',\n",
    "    'A Argentina joga 22/11 contra a Arábia, 26/11 contra o México e 30/11 contra a Polônia. Dá-lhe Lewa!'\n",
    "\n",
    "    'você é burro.',\n",
    "    'Você não deveria ser grosseiro com o próximo',\n",
    "    'desculpa',\n",
    "    'Tudo bem. Mas não faça de novo, por favor.',\n",
    "\n",
    "    'tchau',\n",
    "    'Tchau'\n",
    "    ])"
   ]
  },
  {
   "cell_type": "markdown",
   "metadata": {},
   "source": [
    "# Cria o front end do bot, bem como suas funções"
   ]
  },
  {
   "cell_type": "code",
   "execution_count": 26,
   "metadata": {},
   "outputs": [
    {
     "name": "stderr",
     "output_type": "stream",
     "text": [
      "[nltk_data] Downloading package stopwords to /home/alex/nltk_data...\n",
      "[nltk_data]   Package stopwords is already up-to-date!\n",
      "[nltk_data] Downloading package averaged_perceptron_tagger to\n",
      "[nltk_data]     /home/alex/nltk_data...\n",
      "[nltk_data]   Package averaged_perceptron_tagger is already up-to-\n",
      "[nltk_data]       date!\n"
     ]
    }
   ],
   "source": [
    "import tkinter as tk\n",
    "\n",
    "import tkinter.ttk as ttk\n",
    "import tkinter.scrolledtext as ScrolledText\n",
    "import time\n",
    "\n",
    "\n",
    "class TelaBot(tk.Tk):\n",
    "\n",
    "    def __init__(self, *args, **kwargs):\n",
    "        \"\"\"\n",
    "        Create & set window variables.\n",
    "        \"\"\"\n",
    "        tk.Tk.__init__(self, *args, **kwargs)\n",
    "\n",
    "        self.chatbot = ChatBot(\n",
    "            'Hallandinho',\n",
    "            storage_adapter = 'chatterbot.storage.SQLStorageAdapter',\n",
    "            logic_adapters = [        {\n",
    "        'import_path': 'chatterbot.logic.BestMatch', #adaptador lógico que procura as soluções mais próximas\n",
    "        'statement_comparison_function':'chatterbot.comparisons.LevenshteinDistance', #adaptador que faz a comparação entre as palavras pelo cálculo de distância\n",
    "        'maximum_similarity_threshold':0.9, #limite de similaridade aceito\n",
    "        'default_response':'Desculpe, não entendi o que você quis dizer.' #resposta padrão para respostas não encontradas\n",
    "        }\n",
    "        \n",
    "    ],\n",
    "    database = 'database.sqlite3',\n",
    "    read_only = False\n",
    "        )\n",
    "\n",
    "        self.title(\"Hallandinho\")\n",
    "\n",
    "        self.initialize()\n",
    "\n",
    "    def initialize(self):\n",
    "        \"\"\"\n",
    "        Set window layout.\n",
    "        \"\"\"\n",
    "        self.grid()\n",
    "\n",
    "        self.respond = ttk.Button(self, text='Enviar', command=self.get_response) #Cria o botão de enviar e chama a função get_response\n",
    "        self.respond.grid(column=1, row=0, sticky='nesw', padx=3, pady=3) \n",
    "\n",
    "        self.usr_input = ttk.Entry(self, state='normal')\n",
    "        self.usr_input.grid(column=0, row=0, sticky='nesw', padx=3, pady=3) # Cria a caixa de texto\n",
    "\n",
    "        self.conversation_lbl = ttk.Label(self, anchor=tk.E, text='Histórico:') #Cria o campo histórico\n",
    "        self.conversation_lbl.grid(column=0, row=1, sticky='nesw', padx=3, pady=3)\n",
    "\n",
    "        self.conversation = ScrolledText.ScrolledText(self, state='disabled') # Permite o scroll do texto\n",
    "        self.conversation.grid(column=0, row=2, columnspan=2, sticky='nesw', padx=3, pady=3)\n",
    "\n",
    "    def get_response(bot):\n",
    "        \"\"\"\n",
    "        Get a response from the chatbot and display it.\n",
    "        \"\"\"\n",
    "        user_input = bot.usr_input.get() #pega o que o usuário digitou\n",
    "        user_input = user_input.lower() # transforma o que o usuário digitou em letra minúscula\n",
    "        bot.usr_input.delete(0, tk.END) #limpa a caixa de texto\n",
    "\n",
    "        response = bot.chatbot.get_response(user_input) # busca a resposta na lista de treino\n",
    "\n",
    "        bot.conversation['state'] = 'normal' #permite que a conversa seja exibida\n",
    "        bot.conversation.insert(\n",
    "           tk.END, \"Você: \" + user_input + \"\\n\" + \"Hallandinho: \" + str(response.text) + \"\\n\" #mostra a conversa no histórico\n",
    "        )\n",
    "        bot.conversation['state'] = 'enable'\n",
    "\n",
    "        time.sleep(0.5)\n",
    "\n",
    "\n",
    "gui_example = TelaBot()\n",
    "gui_example.mainloop()"
   ]
  },
  {
   "cell_type": "code",
   "execution_count": null,
   "metadata": {},
   "outputs": [],
   "source": []
  }
 ],
 "metadata": {
  "kernelspec": {
   "display_name": "Python 3.8.10 64-bit",
   "language": "python",
   "name": "python3"
  },
  "language_info": {
   "codemirror_mode": {
    "name": "ipython",
    "version": 3
   },
   "file_extension": ".py",
   "mimetype": "text/x-python",
   "name": "python",
   "nbconvert_exporter": "python",
   "pygments_lexer": "ipython3",
   "version": "3.8.10"
  },
  "orig_nbformat": 4,
  "vscode": {
   "interpreter": {
    "hash": "916dbcbb3f70747c44a77c7bcd40155683ae19c65e1c03b4aa3499c5328201f1"
   }
  }
 },
 "nbformat": 4,
 "nbformat_minor": 2
}
